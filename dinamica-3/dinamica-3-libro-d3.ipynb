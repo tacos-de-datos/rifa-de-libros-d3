{
 "cells": [
  {
   "cell_type": "markdown",
   "metadata": {},
   "source": [
    "# Leyendo replies, retuits y likes \n",
    "\n",
    "<details>\n",
    "    <summary><strong>Meta:</strong></summary>\n",
    "    Crear una lista de personas que contestaron a el tweet del concurso: `\"https://twitter.com/tacosdedatos/status/1130570862086672386\"`\n",
    "</details>\n",
    "\n",
    "<details>\n",
    "    <summary><strong>Contexto:</strong></summary>\n",
    "    Las reglas de concurso eran simples: 1) darle like y retuit a el tuit del concurso y 2) contestar el tweet proponiendo a alguien que se merezca este libro.\n",
    "</details>"
   ]
  },
  {
   "cell_type": "code",
   "execution_count": 1,
   "metadata": {},
   "outputs": [
    {
     "name": "stdout",
     "output_type": "stream",
     "text": [
      "22-May-19 a las 14:15:00\n"
     ]
    }
   ],
   "source": [
    "from datetime import datetime as dt\n",
    "hoy = dt.today().strftime(\"%d-%b-%y a las %H:%M:%S\")\n",
    "\n",
    "print(hoy)"
   ]
  },
  {
   "cell_type": "code",
   "execution_count": 2,
   "metadata": {},
   "outputs": [],
   "source": [
    "from selenium import webdriver\n",
    "from bs4 import BeautifulSoup\n",
    "import time"
   ]
  },
  {
   "cell_type": "code",
   "execution_count": 3,
   "metadata": {},
   "outputs": [],
   "source": [
    "# Utilizando Chromedriver que esta en este mismo directorio\n",
    "browser = webdriver.Chrome()"
   ]
  },
  {
   "cell_type": "code",
   "execution_count": 4,
   "metadata": {},
   "outputs": [],
   "source": [
    "pagina_tuit_del_concurso = \"https://twitter.com/tacosdedatos/status/1130570862086672386\""
   ]
  },
  {
   "cell_type": "code",
   "execution_count": 5,
   "metadata": {},
   "outputs": [],
   "source": [
    "# ve a la página y espera a que se cargue\n",
    "browser.get(pagina_tuit_del_concurso)\n",
    "time.sleep(0.5)"
   ]
  },
  {
   "cell_type": "markdown",
   "metadata": {},
   "source": [
    "En el browser, como el tuit es una ventana pop-up tenemos que bajar hasta el fondo _manualmente_ para \"cargar\" todos los tuits al html de la pagina.\n",
    "\n",
    "\n",
    "# MANUALMENTE MUEVE LA VENTANA HASTA EL FONDO"
   ]
  },
  {
   "cell_type": "code",
   "execution_count": 6,
   "metadata": {},
   "outputs": [],
   "source": [
    "replies = browser.find_elements_by_class_name(\"tweet\")"
   ]
  },
  {
   "cell_type": "code",
   "execution_count": 7,
   "metadata": {},
   "outputs": [
    {
     "data": {
      "text/plain": [
       "61"
      ]
     },
     "execution_count": 7,
     "metadata": {},
     "output_type": "execute_result"
    }
   ],
   "source": [
    "len(replies)"
   ]
  },
  {
   "cell_type": "code",
   "execution_count": 8,
   "metadata": {},
   "outputs": [],
   "source": [
    "elements_html = []\n",
    "for element in replies:\n",
    "    inner_html = element.get_attribute(\"outerHTML\")\n",
    "    #replying_to = element.get_attribute(\"class\")\n",
    "    elements_html.append(inner_html)"
   ]
  },
  {
   "cell_type": "code",
   "execution_count": 9,
   "metadata": {},
   "outputs": [],
   "source": [
    "cleaned_list = []\n",
    "for item in elements_html:\n",
    "    bs = BeautifulSoup(item)\n",
    "    cleaned_list.append(bs)"
   ]
  },
  {
   "cell_type": "code",
   "execution_count": 10,
   "metadata": {},
   "outputs": [],
   "source": [
    "soup_1 = cleaned_list[3]"
   ]
  },
  {
   "cell_type": "code",
   "execution_count": 11,
   "metadata": {},
   "outputs": [
    {
     "data": {
      "text/plain": [
       "29"
      ]
     },
     "execution_count": 11,
     "metadata": {},
     "output_type": "execute_result"
    }
   ],
   "source": [
    "tuits = [element for element in cleaned_list if \"Replying to @tacosdedatos\" in element.get_text()]\n",
    "\n",
    "len(tuits)"
   ]
  },
  {
   "cell_type": "code",
   "execution_count": 12,
   "metadata": {},
   "outputs": [],
   "source": [
    "nombre_cuenta = [tuit.get_text().strip().split(\"\\n\")[0] for tuit in tuits]"
   ]
  },
  {
   "cell_type": "code",
   "execution_count": 13,
   "metadata": {},
   "outputs": [
    {
     "data": {
      "text/plain": [
       "29"
      ]
     },
     "execution_count": 13,
     "metadata": {},
     "output_type": "execute_result"
    }
   ],
   "source": [
    "len(nombre_cuenta)"
   ]
  },
  {
   "cell_type": "code",
   "execution_count": 14,
   "metadata": {},
   "outputs": [
    {
     "name": "stdout",
     "output_type": "stream",
     "text": [
      "Jose Antonio Mora‏ @Antonio_Mora_94\n",
      "Jose Antonio Mora‏ @Antonio_Mora_94\n",
      "Rafa‏ @GonzalezGouveia\n",
      "Juan Vazquez-Montejo‏ @JuanVazqMont\n",
      "Carolina Castañeda‏ @citosina\n",
      "Sebastián Arcos‏ @SebastianArcosR\n",
      "Isa Buriticá  🇨🇴‏ @iris9112\n",
      "Steph‏ @tffxx\n",
      "Dino‏ @DinoD22\n",
      "Escritor fracasado‏ @pinguinoarrecho\n",
      "Noé Osorio García‏ @NoeOsorioPK\n",
      "Carlos A. Matus‏ @Caranarq\n",
      "nekrum‏ @nekrum\n",
      "Aldo‏ @Aldo_Ea\n",
      "𝖱𝗈𝖽𝗈 𝖥𝖾𝗋𝗋𝗈  🐍‏ @FerroRodolfo\n",
      "Jaime L. Suncin‏ @jl_suncin\n",
      "alejandro‏ @blueman_ale\n",
      "Man Lio‏ @Jarl_Man_Lio\n",
      "Eipril Makeyn‏ @DeepEvergreen\n",
      "Coviza‏ @Coviza\n",
      "Irving MA‏ @moaimx\n",
      "O Rosalia Meza L‏ @ORMezaL\n",
      "O Rosalia Meza L‏ @ORMezaL\n",
      "Daniel Avila‏ @Daniel_AvOr\n",
      "Cynthia Flores Santana‏ @cynflorsan\n",
      "Daniel Avila‏ @Daniel_AvOr\n",
      "Daniel Avila‏ @Daniel_AvOr\n",
      "Juan‏ @Juan40350581\n",
      "Eduardo Hernández‏ @eduardohgto\n"
     ]
    }
   ],
   "source": [
    "for nombre in nombre_cuenta:\n",
    "    print(nombre)"
   ]
  },
  {
   "cell_type": "code",
   "execution_count": 15,
   "metadata": {},
   "outputs": [],
   "source": [
    "import numpy as np"
   ]
  },
  {
   "cell_type": "code",
   "execution_count": 16,
   "metadata": {},
   "outputs": [],
   "source": [
    "nombre_cuentas = np.array(nombre_cuenta)"
   ]
  },
  {
   "cell_type": "code",
   "execution_count": 17,
   "metadata": {},
   "outputs": [
    {
     "data": {
      "text/plain": [
       "25"
      ]
     },
     "execution_count": 17,
     "metadata": {},
     "output_type": "execute_result"
    }
   ],
   "source": [
    "cuentas_unicas = np.unique(nombre_cuentas)\n",
    "len(cuentas_unicas)"
   ]
  },
  {
   "cell_type": "code",
   "execution_count": 18,
   "metadata": {},
   "outputs": [
    {
     "name": "stdout",
     "output_type": "stream",
     "text": [
      "Aldo‏ @Aldo_Ea\n",
      "Carlos A. Matus‏ @Caranarq\n",
      "Carolina Castañeda‏ @citosina\n",
      "Coviza‏ @Coviza\n",
      "Cynthia Flores Santana‏ @cynflorsan\n",
      "Daniel Avila‏ @Daniel_AvOr\n",
      "Dino‏ @DinoD22\n",
      "Eduardo Hernández‏ @eduardohgto\n",
      "Eipril Makeyn‏ @DeepEvergreen\n",
      "Escritor fracasado‏ @pinguinoarrecho\n",
      "Irving MA‏ @moaimx\n",
      "Isa Buriticá  🇨🇴‏ @iris9112\n",
      "Jaime L. Suncin‏ @jl_suncin\n",
      "Jose Antonio Mora‏ @Antonio_Mora_94\n",
      "Juan Vazquez-Montejo‏ @JuanVazqMont\n",
      "Juan‏ @Juan40350581\n",
      "Man Lio‏ @Jarl_Man_Lio\n",
      "Noé Osorio García‏ @NoeOsorioPK\n",
      "O Rosalia Meza L‏ @ORMezaL\n",
      "Rafa‏ @GonzalezGouveia\n",
      "Sebastián Arcos‏ @SebastianArcosR\n",
      "Steph‏ @tffxx\n",
      "alejandro‏ @blueman_ale\n",
      "nekrum‏ @nekrum\n",
      "𝖱𝗈𝖽𝗈 𝖥𝖾𝗋𝗋𝗈  🐍‏ @FerroRodolfo\n"
     ]
    }
   ],
   "source": [
    "for cuenta in cuentas_unicas:\n",
    "    print(cuenta)"
   ]
  },
  {
   "cell_type": "markdown",
   "metadata": {},
   "source": [
    "Este numero va a cambiar cada que ejecutemos el codigo pero solo lo ocupamos una ves para crear la \"semilla\" del que se crearan los numeros random. Asi podemos mantener nuestros resultados un poco mas \"reproducibles\""
   ]
  },
  {
   "cell_type": "code",
   "execution_count": 19,
   "metadata": {},
   "outputs": [
    {
     "data": {
      "text/plain": [
       "9"
      ]
     },
     "execution_count": 19,
     "metadata": {},
     "output_type": "execute_result"
    }
   ],
   "source": [
    "np.random.randint(low = 0, high = 100)"
   ]
  },
  {
   "cell_type": "code",
   "execution_count": 20,
   "metadata": {},
   "outputs": [],
   "source": [
    "np.random.seed(9)"
   ]
  },
  {
   "cell_type": "code",
   "execution_count": 21,
   "metadata": {},
   "outputs": [
    {
     "name": "stdout",
     "output_type": "stream",
     "text": [
      "Ganó Steph‏ @tffxx\n"
     ]
    }
   ],
   "source": [
    "print(f\"Ganó {np.random.choice(cuentas_unicas)}\")"
   ]
  },
  {
   "cell_type": "markdown",
   "metadata": {},
   "source": [
    "la verdad yo no se de web scraping tanto como quisiera y la API de twitter no es como que \"guau que impresionante\" asi que ya teninendo esta cuenta vamos a verificar manualmente que tambien le haya dado like y retuit al tuit "
   ]
  }
 ],
 "metadata": {
  "kernelspec": {
   "display_name": "Python 3",
   "language": "python",
   "name": "python3"
  },
  "language_info": {
   "codemirror_mode": {
    "name": "ipython",
    "version": 3
   },
   "file_extension": ".py",
   "mimetype": "text/x-python",
   "name": "python",
   "nbconvert_exporter": "python",
   "pygments_lexer": "ipython3",
   "version": "3.7.3"
  }
 },
 "nbformat": 4,
 "nbformat_minor": 2
}
