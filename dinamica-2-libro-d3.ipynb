{
 "cells": [
  {
   "cell_type": "markdown",
   "metadata": {},
   "source": [
    "# Leyendo replies, retuits y likes \n",
    "\n",
    "<details>\n",
    "    <summary><strong>Meta:</strong></summary>\n",
    "    Crear una lista de personas que contestaron a el tweet del concurso: `\"https://twitter.com/tacosdedatos/status/1129482795611385858\"`\n",
    "</details>\n",
    "\n",
    "<details>\n",
    "    <summary><strong>Contexto:</strong></summary>\n",
    "    Las reglas de concurso eran simples: 1) darle like y retuit a el tuit del concurso y 2) contestar el tweet con una base de datos intersante.\n",
    "</details>"
   ]
  },
  {
   "cell_type": "code",
   "execution_count": 1,
   "metadata": {},
   "outputs": [
    {
     "name": "stdout",
     "output_type": "stream",
     "text": [
      "20-May-19 a las 12:18:47\n"
     ]
    }
   ],
   "source": [
    "from datetime import datetime as dt\n",
    "hoy = dt.today().strftime(\"%d-%b-%y a las %H:%M:%S\")\n",
    "\n",
    "print(hoy)"
   ]
  },
  {
   "cell_type": "code",
   "execution_count": 2,
   "metadata": {},
   "outputs": [],
   "source": [
    "from selenium import webdriver\n",
    "from bs4 import BeautifulSoup\n",
    "import time"
   ]
  },
  {
   "cell_type": "code",
   "execution_count": 3,
   "metadata": {},
   "outputs": [],
   "source": [
    "# Utilizando Chromedriver que esta en este mismo directorio\n",
    "browser = webdriver.Chrome()"
   ]
  },
  {
   "cell_type": "code",
   "execution_count": 4,
   "metadata": {},
   "outputs": [],
   "source": [
    "pagina_tuit_del_concurso = \"https://twitter.com/tacosdedatos/status/1129482795611385858\""
   ]
  },
  {
   "cell_type": "code",
   "execution_count": 5,
   "metadata": {},
   "outputs": [],
   "source": [
    "# ve a la página y espera a que se cargue\n",
    "browser.get(pagina_tuit_del_concurso)\n",
    "time.sleep(0.5)"
   ]
  },
  {
   "cell_type": "markdown",
   "metadata": {},
   "source": [
    "En el browser, como el tuit es una ventana pop-up tenemos que bajar hasta el fondo _manualmente_ para \"cargar\" todos los tuits al html de la pagina.\n",
    "\n",
    "\n",
    "# MANUALMENTE MUEVE LA VENTANA HASTA EL FONDO"
   ]
  },
  {
   "cell_type": "code",
   "execution_count": 6,
   "metadata": {},
   "outputs": [],
   "source": [
    "replies = browser.find_elements_by_class_name(\"tweet\")"
   ]
  },
  {
   "cell_type": "code",
   "execution_count": 7,
   "metadata": {},
   "outputs": [
    {
     "data": {
      "text/plain": [
       "52"
      ]
     },
     "execution_count": 7,
     "metadata": {},
     "output_type": "execute_result"
    }
   ],
   "source": [
    "len(replies)"
   ]
  },
  {
   "cell_type": "code",
   "execution_count": 8,
   "metadata": {},
   "outputs": [],
   "source": [
    "elements_html = []\n",
    "for element in replies:\n",
    "    inner_html = element.get_attribute(\"outerHTML\")\n",
    "    #replying_to = element.get_attribute(\"class\")\n",
    "    elements_html.append(inner_html)"
   ]
  },
  {
   "cell_type": "code",
   "execution_count": 9,
   "metadata": {},
   "outputs": [],
   "source": [
    "cleaned_list = []\n",
    "for item in elements_html:\n",
    "    bs = BeautifulSoup(item)\n",
    "    cleaned_list.append(bs)"
   ]
  },
  {
   "cell_type": "code",
   "execution_count": 10,
   "metadata": {},
   "outputs": [],
   "source": [
    "soup_1 = cleaned_list[3]"
   ]
  },
  {
   "cell_type": "code",
   "execution_count": 11,
   "metadata": {},
   "outputs": [
    {
     "data": {
      "text/plain": [
       "27"
      ]
     },
     "execution_count": 11,
     "metadata": {},
     "output_type": "execute_result"
    }
   ],
   "source": [
    "tuits = [element for element in cleaned_list if \"Replying to @tacosdedatos\" in element.get_text()]\n",
    "\n",
    "len(tuits)"
   ]
  },
  {
   "cell_type": "code",
   "execution_count": 12,
   "metadata": {},
   "outputs": [],
   "source": [
    "nombre_cuenta = [tuit.get_text().strip().split(\"\\n\")[0] for tuit in tuits]"
   ]
  },
  {
   "cell_type": "code",
   "execution_count": 13,
   "metadata": {},
   "outputs": [
    {
     "data": {
      "text/plain": [
       "27"
      ]
     },
     "execution_count": 13,
     "metadata": {},
     "output_type": "execute_result"
    }
   ],
   "source": [
    "len(nombre_cuenta)"
   ]
  },
  {
   "cell_type": "code",
   "execution_count": 14,
   "metadata": {},
   "outputs": [
    {
     "name": "stdout",
     "output_type": "stream",
     "text": [
      "Diego Rojo‏ @Diego_Rojo_\n",
      "🌮 tacos de datos  🤓‏ @tacosdedatos\n",
      "Edwin Mendivil Barceló‏ @vizualdatos\n",
      "🌮 tacos de datos  🤓‏ @tacosdedatos\n",
      "Escritor fracasado‏ @pinguinoarrecho\n",
      "Escritor fracasado‏ @pinguinoarrecho\n",
      "Eipril Makeyn‏ @DeepEvergreen\n",
      "Eipril Makeyn‏ @DeepEvergreen\n",
      "nekrum‏ @nekrum\n",
      "carlos mora‏ @betomoram\n",
      "Man Lio‏ @Jarl_Man_Lio\n",
      "David I.Rock™ @ Pale Blue Dot‏ @MrPinkRockStar\n",
      "alejandro‏ @blueman_ale\n",
      "Karina Soto‏ @karina_urbanita\n",
      "Alvaro Martínez‏ @AlvaroMashiro\n",
      "Alan Velasco‏ @alanbato\n",
      "Mywell Hernan‏ @MywellHernan\n",
      "Carlos A. Matus‏ @Caranarq\n",
      "Steph‏ @tffxx\n",
      "Steph‏ @tffxx\n",
      "Maravilla  🐑‏ @RamMaravilla\n",
      "Mariana Menchero  🐼‏ @mmencherogarcia\n",
      "El Guille‏ @trollguille\n",
      "asynchronous Jazz‏ @jazzcelaya\n",
      "Diego Rojo‏ @Diego_Rojo_\n",
      "Juvenal‏ @JuvenalCamposF\n",
      "Felipe Guzmán Vargas‏ @felipeguzmanv\n"
     ]
    }
   ],
   "source": [
    "for nombre in nombre_cuenta:\n",
    "    print(nombre)"
   ]
  },
  {
   "cell_type": "code",
   "execution_count": 15,
   "metadata": {},
   "outputs": [],
   "source": [
    "import numpy as np"
   ]
  },
  {
   "cell_type": "code",
   "execution_count": 16,
   "metadata": {},
   "outputs": [],
   "source": [
    "nombre_cuentas = np.array(nombre_cuenta)"
   ]
  },
  {
   "cell_type": "code",
   "execution_count": 17,
   "metadata": {},
   "outputs": [
    {
     "data": {
      "text/plain": [
       "22"
      ]
     },
     "execution_count": 17,
     "metadata": {},
     "output_type": "execute_result"
    }
   ],
   "source": [
    "cuentas_unicas = np.unique(nombre_cuentas)\n",
    "len(cuentas_unicas)"
   ]
  },
  {
   "cell_type": "code",
   "execution_count": 18,
   "metadata": {},
   "outputs": [
    {
     "name": "stdout",
     "output_type": "stream",
     "text": [
      "Alan Velasco‏ @alanbato\n",
      "Alvaro Martínez‏ @AlvaroMashiro\n",
      "Carlos A. Matus‏ @Caranarq\n",
      "David I.Rock™ @ Pale Blue Dot‏ @MrPinkRockStar\n",
      "Diego Rojo‏ @Diego_Rojo_\n",
      "Edwin Mendivil Barceló‏ @vizualdatos\n",
      "Eipril Makeyn‏ @DeepEvergreen\n",
      "El Guille‏ @trollguille\n",
      "Escritor fracasado‏ @pinguinoarrecho\n",
      "Felipe Guzmán Vargas‏ @felipeguzmanv\n",
      "Juvenal‏ @JuvenalCamposF\n",
      "Karina Soto‏ @karina_urbanita\n",
      "Man Lio‏ @Jarl_Man_Lio\n",
      "Maravilla  🐑‏ @RamMaravilla\n",
      "Mariana Menchero  🐼‏ @mmencherogarcia\n",
      "Mywell Hernan‏ @MywellHernan\n",
      "Steph‏ @tffxx\n",
      "alejandro‏ @blueman_ale\n",
      "asynchronous Jazz‏ @jazzcelaya\n",
      "carlos mora‏ @betomoram\n",
      "nekrum‏ @nekrum\n",
      "🌮 tacos de datos  🤓‏ @tacosdedatos\n"
     ]
    }
   ],
   "source": [
    "for cuenta in cuentas_unicas:\n",
    "    print(cuenta)"
   ]
  },
  {
   "cell_type": "markdown",
   "metadata": {},
   "source": [
    "# filtrar @tacosdedatos porque me contesté yo solo jajaj"
   ]
  },
  {
   "cell_type": "code",
   "execution_count": 19,
   "metadata": {},
   "outputs": [],
   "source": [
    "from numpy.core.defchararray import find"
   ]
  },
  {
   "cell_type": "code",
   "execution_count": 20,
   "metadata": {},
   "outputs": [
    {
     "name": "stdout",
     "output_type": "stream",
     "text": [
      "Alan Velasco‏ @alanbato\n",
      "Alvaro Martínez‏ @AlvaroMashiro\n",
      "Carlos A. Matus‏ @Caranarq\n",
      "David I.Rock™ @ Pale Blue Dot‏ @MrPinkRockStar\n",
      "Diego Rojo‏ @Diego_Rojo_\n",
      "Edwin Mendivil Barceló‏ @vizualdatos\n",
      "Eipril Makeyn‏ @DeepEvergreen\n",
      "El Guille‏ @trollguille\n",
      "Escritor fracasado‏ @pinguinoarrecho\n",
      "Felipe Guzmán Vargas‏ @felipeguzmanv\n",
      "Juvenal‏ @JuvenalCamposF\n",
      "Karina Soto‏ @karina_urbanita\n",
      "Man Lio‏ @Jarl_Man_Lio\n",
      "Maravilla  🐑‏ @RamMaravilla\n",
      "Mariana Menchero  🐼‏ @mmencherogarcia\n",
      "Mywell Hernan‏ @MywellHernan\n",
      "Steph‏ @tffxx\n",
      "alejandro‏ @blueman_ale\n",
      "asynchronous Jazz‏ @jazzcelaya\n",
      "carlos mora‏ @betomoram\n",
      "nekrum‏ @nekrum\n"
     ]
    }
   ],
   "source": [
    "cuentas_unicas = cuentas_unicas[find(cuentas_unicas, 'tacosdedatos') != 22]\n",
    "\n",
    "for cuenta in cuentas_unicas:\n",
    "    print(cuenta)"
   ]
  },
  {
   "cell_type": "markdown",
   "metadata": {},
   "source": [
    "Este numero va a cambiar cada que ejecutemos el codigo pero solo lo ocupamos una ves para crear la \"semilla\" del que se crearan los numeros random. Asi podemos mantener nuestros resultados un poco mas \"reproducibles\""
   ]
  },
  {
   "cell_type": "code",
   "execution_count": 21,
   "metadata": {},
   "outputs": [
    {
     "data": {
      "text/plain": [
       "4"
      ]
     },
     "execution_count": 21,
     "metadata": {},
     "output_type": "execute_result"
    }
   ],
   "source": [
    "np.random.randint(low = 0, high = 100)"
   ]
  },
  {
   "cell_type": "code",
   "execution_count": 22,
   "metadata": {},
   "outputs": [],
   "source": [
    "np.random.seed(4)"
   ]
  },
  {
   "cell_type": "code",
   "execution_count": 23,
   "metadata": {},
   "outputs": [
    {
     "name": "stdout",
     "output_type": "stream",
     "text": [
      "Ganó Mariana Menchero  🐼‏ @mmencherogarcia\n"
     ]
    }
   ],
   "source": [
    "print(f\"Ganó {np.random.choice(cuentas_unicas)}\")"
   ]
  },
  {
   "cell_type": "markdown",
   "metadata": {},
   "source": [
    "la verdad yo no se de web scraping tanto como quisiera y la API de twitter no es como que \"guau que impresionante\" asi que ya teninendo esta cuenta vamos a verificar manualmente que tambien le haya dado like y retuit al tuit "
   ]
  }
 ],
 "metadata": {
  "kernelspec": {
   "display_name": "Python 3",
   "language": "python",
   "name": "python3"
  },
  "language_info": {
   "codemirror_mode": {
    "name": "ipython",
    "version": 3
   },
   "file_extension": ".py",
   "mimetype": "text/x-python",
   "name": "python",
   "nbconvert_exporter": "python",
   "pygments_lexer": "ipython3",
   "version": "3.7.3"
  }
 },
 "nbformat": 4,
 "nbformat_minor": 2
}
